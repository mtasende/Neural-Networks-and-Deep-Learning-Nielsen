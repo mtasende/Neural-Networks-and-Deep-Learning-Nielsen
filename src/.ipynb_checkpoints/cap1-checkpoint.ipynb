{
 "cells": [
  {
   "cell_type": "code",
   "execution_count": 3,
   "metadata": {
    "collapsed": false
   },
   "outputs": [],
   "source": [
    "%matplotlib inline\n",
    "\n",
    "import mnist_loader\n",
    "training_data, validation_data, test_data = mnist_loader.load_data_wrapper()"
   ]
  },
  {
   "cell_type": "code",
   "execution_count": 4,
   "metadata": {
    "collapsed": true
   },
   "outputs": [],
   "source": [
    "import network\n",
    "net = network.Network([784, 30, 10])"
   ]
  },
  {
   "cell_type": "code",
   "execution_count": 5,
   "metadata": {
    "collapsed": false
   },
   "outputs": [
    {
     "name": "stdout",
     "output_type": "stream",
     "text": [
      "Epoch 0: 9054 / 10000\n",
      "Epoch 1: 9241 / 10000\n",
      "Epoch 2: 9280 / 10000\n",
      "Epoch 3: 9324 / 10000\n",
      "Epoch 4: 9358 / 10000\n",
      "Epoch 5: 9397 / 10000\n",
      "Epoch 6: 9409 / 10000\n",
      "Epoch 7: 9429 / 10000\n",
      "Epoch 8: 9427 / 10000\n",
      "Epoch 9: 9448 / 10000\n",
      "Epoch 10: 9433 / 10000\n",
      "Epoch 11: 9449 / 10000\n",
      "Epoch 12: 9473 / 10000\n",
      "Epoch 13: 9432 / 10000\n",
      "Epoch 14: 9441 / 10000\n",
      "Epoch 15: 9461 / 10000\n",
      "Epoch 16: 9479 / 10000\n",
      "Epoch 17: 9470 / 10000\n",
      "Epoch 18: 9456 / 10000\n",
      "Epoch 19: 9456 / 10000\n",
      "Epoch 20: 9481 / 10000\n",
      "Epoch 21: 9478 / 10000\n",
      "Epoch 22: 9442 / 10000\n",
      "Epoch 23: 9468 / 10000\n",
      "Epoch 24: 9459 / 10000\n",
      "Epoch 25: 9474 / 10000\n",
      "Epoch 26: 9477 / 10000\n",
      "Epoch 27: 9472 / 10000\n",
      "Epoch 28: 9465 / 10000\n",
      "Epoch 29: 9481 / 10000\n"
     ]
    }
   ],
   "source": [
    "net.SGD(training_data, 30, 10, 3.0, test_data=test_data)"
   ]
  },
  {
   "cell_type": "code",
   "execution_count": 6,
   "metadata": {
    "collapsed": false
   },
   "outputs": [
    {
     "name": "stdout",
     "output_type": "stream",
     "text": [
      "Epoch 0: 6627 / 10000\n",
      "Epoch 1: 6715 / 10000\n",
      "Epoch 2: 7652 / 10000\n",
      "Epoch 3: 7687 / 10000\n",
      "Epoch 4: 7692 / 10000\n",
      "Epoch 5: 7739 / 10000\n",
      "Epoch 6: 7790 / 10000\n",
      "Epoch 7: 8393 / 10000\n",
      "Epoch 8: 8642 / 10000\n",
      "Epoch 9: 8619 / 10000\n",
      "Epoch 10: 8660 / 10000\n",
      "Epoch 11: 8665 / 10000\n",
      "Epoch 12: 8662 / 10000\n",
      "Epoch 13: 8699 / 10000\n",
      "Epoch 14: 8681 / 10000\n",
      "Epoch 15: 8705 / 10000\n",
      "Epoch 16: 8689 / 10000\n",
      "Epoch 17: 8754 / 10000\n",
      "Epoch 18: 8763 / 10000\n",
      "Epoch 19: 8788 / 10000\n",
      "Epoch 20: 8781 / 10000\n",
      "Epoch 21: 8747 / 10000\n",
      "Epoch 22: 8871 / 10000\n",
      "Epoch 23: 8960 / 10000\n",
      "Epoch 24: 9618 / 10000\n",
      "Epoch 25: 9630 / 10000\n",
      "Epoch 26: 9632 / 10000\n",
      "Epoch 27: 9640 / 10000\n",
      "Epoch 28: 9640 / 10000\n",
      "Epoch 29: 9628 / 10000\n"
     ]
    }
   ],
   "source": [
    "net = network.Network([784, 100, 10])\n",
    "net.SGD(training_data, 30, 10, 3.0, test_data=test_data)"
   ]
  },
  {
   "cell_type": "code",
   "execution_count": 8,
   "metadata": {
    "collapsed": false
   },
   "outputs": [
    {
     "name": "stdout",
     "output_type": "stream",
     "text": [
      "Epoch 0: 7402 / 10000\n",
      "Epoch 1: 8238 / 10000\n",
      "Epoch 2: 8295 / 10000\n",
      "Epoch 3: 8280 / 10000\n",
      "Epoch 4: 8329 / 10000\n",
      "Epoch 5: 8369 / 10000\n",
      "Epoch 6: 8358 / 10000\n",
      "Epoch 7: 8369 / 10000\n",
      "Epoch 8: 8353 / 10000\n",
      "Epoch 9: 8392 / 10000\n",
      "Epoch 10: 8396 / 10000\n",
      "Epoch 11: 8363 / 10000\n",
      "Epoch 12: 8382 / 10000\n",
      "Epoch 13: 8358 / 10000\n",
      "Epoch 14: 8380 / 10000\n",
      "Epoch 15: 8366 / 10000\n",
      "Epoch 16: 8404 / 10000\n",
      "Epoch 17: 8357 / 10000\n",
      "Epoch 18: 8384 / 10000\n",
      "Epoch 19: 8373 / 10000\n",
      "Epoch 20: 8383 / 10000\n",
      "Epoch 21: 8374 / 10000\n",
      "Epoch 22: 8394 / 10000\n",
      "Epoch 23: 8376 / 10000\n",
      "Epoch 24: 8406 / 10000\n",
      "Epoch 25: 8388 / 10000\n",
      "Epoch 26: 8398 / 10000\n",
      "Epoch 27: 8377 / 10000\n",
      "Epoch 28: 8399 / 10000\n",
      "Epoch 29: 8380 / 10000\n"
     ]
    }
   ],
   "source": [
    "net = network.Network([784, 10]) #Sin capas ocultas\n",
    "net.SGD(training_data, 30, 10, 3.0, test_data=test_data)"
   ]
  },
  {
   "cell_type": "code",
   "execution_count": 4,
   "metadata": {
    "collapsed": false
   },
   "outputs": [],
   "source": [
    "%matplotlib inline"
   ]
  },
  {
   "cell_type": "code",
   "execution_count": 2,
   "metadata": {
    "collapsed": false
   },
   "outputs": [
    {
     "name": "stdout",
     "output_type": "stream",
     "text": [
      "Baseline classifier using an SVM.\n",
      "9435 of 10000 values correct.\n"
     ]
    }
   ],
   "source": [
    "#Ahora comparo contra unas SVMs normales de scikit-learn\n",
    "import mnist_loader\n",
    "training_data, validation_data, test_data = mnist_loader.load_data()\n",
    "\n",
    "from sklearn import svm\n",
    "\n",
    "# train\n",
    "clf = svm.SVC()\n",
    "clf.fit(training_data[0], training_data[1])\n",
    "# test\n",
    "predictions = [int(a) for a in clf.predict(test_data[0])]\n",
    "num_correct = sum(int(a == y) for a, y in zip(predictions, test_data[1]))\n",
    "print \"Baseline classifier using an SVM.\"\n",
    "print \"%s of %s values correct.\" % (num_correct, len(test_data[1]))"
   ]
  },
  {
   "cell_type": "code",
   "execution_count": null,
   "metadata": {
    "collapsed": true
   },
   "outputs": [],
   "source": []
  }
 ],
 "metadata": {
  "kernelspec": {
   "display_name": "Python 2",
   "language": "python",
   "name": "python2"
  },
  "language_info": {
   "codemirror_mode": {
    "name": "ipython",
    "version": 2
   },
   "file_extension": ".py",
   "mimetype": "text/x-python",
   "name": "python",
   "nbconvert_exporter": "python",
   "pygments_lexer": "ipython2",
   "version": "2.7.12"
  }
 },
 "nbformat": 4,
 "nbformat_minor": 0
}
