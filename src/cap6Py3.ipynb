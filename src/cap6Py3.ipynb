{
 "cells": [
  {
   "cell_type": "markdown",
   "metadata": {},
   "source": [
    "# Deep Learning"
   ]
  },
  {
   "cell_type": "markdown",
   "metadata": {},
   "source": [
    "## Convolutional Neural Networks\n",
    "\n",
    "Usan tres ideas básicas: \"Local receptive fields\", \"shared weights\", \"pooling\"\n",
    "\n",
    "### Local receptive fields\n",
    "Se piensa en los píxels en una grilla, y se conectan sub-matrices de tamaño menor a la imagen (por ejemplo: en el caso de MNIST, con imágenes de 28x28, se podrían usar regiones de 5x5), de los inputs, a cada neurona oculta.\n",
    "Se mueve el \"receptive field\" y se conecta cada uno a una neurona de la primer capa oculta. El movimiento puede se \"de a un píxel\" o con diferentes \"strides\".\n",
    "\n",
    "### Shared weights and bias\n",
    "Se usan los mismos pesos y bias para todas las neuronas de la capa (24x24 en este caso). La salida de una neurona de la primera capa oculta quedaría:\n",
    "$$\\sigma \\left( b + \\sum_{l=0}^4 \\sum_{m=0}^4 w_{l,m}a_{j+l,k+m} \\right)$$\n",
    "Los $w_{l,m}$ varían dentro del tamaño de un receptive field, pero son iguales entre todas las neuronas (por eso l,m van de 0 a 4; se asumió un receptive field de tamaño 5x5)\n",
    "A los shared weights y shared bias, a veces se les llama \"kernel\" o \"filtro\".\n",
    "Un grupo de 24x24 neuronas ocultas detecta un \"feature\", cada una en una zona de la imagen. Luego, se agregan varios de esos grupos, para detectar distintos \"features\".\n",
    "La operación a veces se escribe de esta forma:\n",
    "$$a^1 = \\sigma(b + w * a^0)$$\n",
    "(donde * representa la convolución)\n",
    "\n",
    "### Pooling layers\n",
    "Se \"condensa\" la información de una capa previa en un nuevo \"feature map\". Por ejemplo, se pueden tomar las salidas de la capa anterior en grupos de 2x2, calcular el máximo (\"max-pooling\") y tomar eso como un nuevo feature.\n",
    "También se usa, a veces $L_2$ pooling (calculando la norma 2, en vez del máximo), u otras.\n",
    "\n",
    "\n",
    "Finalmente se conecta una capa de salida, totalmente conectada."
   ]
  },
  {
   "cell_type": "code",
   "execution_count": 10,
   "metadata": {
    "collapsed": false
   },
   "outputs": [],
   "source": [
    "import network3Py3\n",
    "from network3Py3 import Network\n",
    "from network3Py3 import ConvPoolLayer, FullyConnectedLayer, SoftmaxLayer\n",
    "\n",
    "training_data, validation_data, test_data = network3Py3.load_data_shared()"
   ]
  },
  {
   "cell_type": "code",
   "execution_count": 11,
   "metadata": {
    "collapsed": false
   },
   "outputs": [
    {
     "data": {
      "text/plain": [
       "theano.tensor.sharedvar.TensorSharedVariable"
      ]
     },
     "execution_count": 11,
     "metadata": {},
     "output_type": "execute_result"
    }
   ],
   "source": [
    "type(training_data[0])"
   ]
  },
  {
   "cell_type": "code",
   "execution_count": 12,
   "metadata": {
    "collapsed": false
   },
   "outputs": [
    {
     "data": {
      "text/plain": [
       "(50000, 784)"
      ]
     },
     "execution_count": 12,
     "metadata": {},
     "output_type": "execute_result"
    }
   ],
   "source": [
    "training_data[0].get_value().shape"
   ]
  },
  {
   "cell_type": "code",
   "execution_count": 13,
   "metadata": {
    "collapsed": false
   },
   "outputs": [
    {
     "data": {
      "text/plain": [
       "(10000, 784)"
      ]
     },
     "execution_count": 13,
     "metadata": {},
     "output_type": "execute_result"
    }
   ],
   "source": [
    "validation_data[0].get_value().shape"
   ]
  },
  {
   "cell_type": "code",
   "execution_count": 14,
   "metadata": {
    "collapsed": false
   },
   "outputs": [
    {
     "data": {
      "text/plain": [
       "(10000, 784)"
      ]
     },
     "execution_count": 14,
     "metadata": {},
     "output_type": "execute_result"
    }
   ],
   "source": [
    "test_data[0].get_value().shape"
   ]
  },
  {
   "cell_type": "code",
   "execution_count": 17,
   "metadata": {
    "collapsed": false
   },
   "outputs": [
    {
     "ename": "TypeError",
     "evalue": "'float' object cannot be interpreted as an integer",
     "output_type": "error",
     "traceback": [
      "\u001b[0;31m---------------------------------------------------------------------------\u001b[0m",
      "\u001b[0;31mTypeError\u001b[0m                                 Traceback (most recent call last)",
      "\u001b[0;32m<ipython-input-17-b5ad1e36da2f>\u001b[0m in \u001b[0;36m<module>\u001b[0;34m()\u001b[0m\n\u001b[1;32m      3\u001b[0m                SoftmaxLayer(n_in=100, n_out=10)],\n\u001b[1;32m      4\u001b[0m               mini_batch_size = mbs)\n\u001b[0;32m----> 5\u001b[0;31m \u001b[0mnet\u001b[0m\u001b[0;34m.\u001b[0m\u001b[0mSGD\u001b[0m\u001b[0;34m(\u001b[0m\u001b[0mtraining_data\u001b[0m\u001b[0;34m,\u001b[0m\u001b[0mint\u001b[0m\u001b[0;34m(\u001b[0m\u001b[0;36m60\u001b[0m\u001b[0;34m)\u001b[0m\u001b[0;34m,\u001b[0m\u001b[0mint\u001b[0m\u001b[0;34m(\u001b[0m\u001b[0mmbs\u001b[0m\u001b[0;34m)\u001b[0m\u001b[0;34m,\u001b[0m\u001b[0;36m0.1\u001b[0m\u001b[0;34m,\u001b[0m\u001b[0mvalidation_data\u001b[0m\u001b[0;34m,\u001b[0m\u001b[0mtest_data\u001b[0m\u001b[0;34m)\u001b[0m\u001b[0;34m\u001b[0m\u001b[0m\n\u001b[0m",
      "\u001b[0;32m/Users/antelInvestigacion/IA/Nielsen/neural-networks-and-deep-learning-master/src/network3Py3.py\u001b[0m in \u001b[0;36mSGD\u001b[0;34m(self, training_data, epochs, mini_batch_size, eta, validation_data, test_data, lmbda)\u001b[0m\n\u001b[1;32m    196\u001b[0m         \u001b[0mbest_validation_accuracy\u001b[0m \u001b[0;34m=\u001b[0m \u001b[0;36m0.0\u001b[0m\u001b[0;34m\u001b[0m\u001b[0m\n\u001b[1;32m    197\u001b[0m         \u001b[0;32mfor\u001b[0m \u001b[0mepoch\u001b[0m \u001b[0;32min\u001b[0m \u001b[0mrange\u001b[0m\u001b[0;34m(\u001b[0m\u001b[0mepochs\u001b[0m\u001b[0;34m)\u001b[0m\u001b[0;34m:\u001b[0m\u001b[0;34m\u001b[0m\u001b[0m\n\u001b[0;32m--> 198\u001b[0;31m             \u001b[0;32mfor\u001b[0m \u001b[0mminibatch_index\u001b[0m \u001b[0;32min\u001b[0m \u001b[0mrange\u001b[0m\u001b[0;34m(\u001b[0m\u001b[0mnum_training_batches\u001b[0m\u001b[0;34m)\u001b[0m\u001b[0;34m:\u001b[0m\u001b[0;34m\u001b[0m\u001b[0m\n\u001b[0m\u001b[1;32m    199\u001b[0m                 \u001b[0miteration\u001b[0m \u001b[0;34m=\u001b[0m \u001b[0mnum_training_batches\u001b[0m\u001b[0;34m*\u001b[0m\u001b[0mepoch\u001b[0m\u001b[0;34m+\u001b[0m\u001b[0mminibatch_index\u001b[0m\u001b[0;34m\u001b[0m\u001b[0m\n\u001b[1;32m    200\u001b[0m                 \u001b[0;32mif\u001b[0m \u001b[0miteration\u001b[0m \u001b[0;34m%\u001b[0m \u001b[0;36m1000\u001b[0m \u001b[0;34m==\u001b[0m \u001b[0;36m0\u001b[0m\u001b[0;34m:\u001b[0m\u001b[0;34m\u001b[0m\u001b[0m\n",
      "\u001b[0;31mTypeError\u001b[0m: 'float' object cannot be interpreted as an integer"
     ]
    }
   ],
   "source": [
    "mbs = int(10)\n",
    "net = Network([FullyConnectedLayer(n_in=784, n_out=100),\n",
    "               SoftmaxLayer(n_in=100, n_out=10)],\n",
    "              mini_batch_size = mbs)\n",
    "net.SGD(training_data,int(60),mbs,0.1,validation_data,test_data)"
   ]
  },
  {
   "cell_type": "code",
   "execution_count": null,
   "metadata": {
    "collapsed": true
   },
   "outputs": [],
   "source": []
  }
 ],
 "metadata": {
  "anaconda-cloud": {},
  "kernelspec": {
   "display_name": "Python [py35]",
   "language": "python",
   "name": "Python [py35]"
  },
  "language_info": {
   "codemirror_mode": {
    "name": "ipython",
    "version": 3
   },
   "file_extension": ".py",
   "mimetype": "text/x-python",
   "name": "python",
   "nbconvert_exporter": "python",
   "pygments_lexer": "ipython3",
   "version": "3.5.2"
  }
 },
 "nbformat": 4,
 "nbformat_minor": 0
}
